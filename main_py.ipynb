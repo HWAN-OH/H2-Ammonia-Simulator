{
  "cells": [
    {
      "cell_type": "markdown",
      "metadata": {
        "id": "view-in-github",
        "colab_type": "text"
      },
      "source": [
        "<a href=\"https://colab.research.google.com/github/HWAN-OH/H2-Ammonia-Simulator/blob/main/main_py.ipynb\" target=\"_parent\"><img src=\"https://colab.research.google.com/assets/colab-badge.svg\" alt=\"Open In Colab\"/></a>"
      ]
    },
    {
      "cell_type": "code",
      "source": [
        "# main.py\n",
        "import config\n",
        "import calculator\n",
        "import reporter\n",
        "\n",
        "def run_simulation():\n",
        "    \"\"\"LCOA 시뮬레이션을 실행하고 결과를 저장합니다.\"\"\"\n",
        "    print(\"--- Starting LCOA Simulation for Green Ammonia ---\")\n",
        "\n",
        "    # 1. 연간 생산량 계산\n",
        "    annual_h2_kg, annual_nh3_tonne = calculator.calculate_annual_production()\n",
        "    print(f\"Annual Ammonia Production: {annual_nh3_tonne:,.2f} tonnes\")\n",
        "\n",
        "    # 2. CAPEX 계산\n",
        "    capex_costs = calculator.calculate_capital_costs()\n",
        "    print(f\"Total CAPEX (incl. replacement): ${capex_costs['total_capex_with_replacement']:,.2f}\")\n",
        "\n",
        "    # 3. OPEX 계산\n",
        "    opex_costs = calculator.calculate_annual_operating_costs(capex_costs)\n",
        "    print(f\"Total Annual OPEX: ${opex_costs['total_annual_opex']:,.2f}\")\n",
        "\n",
        "    # 4. LCOA 계산\n",
        "    lcoa_results = calculator.calculate_lcoa(\n",
        "        capex_costs['total_capex_with_replacement'],\n",
        "        opex_costs['total_annual_opex'],\n",
        "        annual_nh3_tonne\n",
        "    )\n",
        "    print(f\"Final LCOA at demand center: ${lcoa_results['lcoa_final']:,.2f} per tonne\")\n",
        "\n",
        "    # 5. 모든 결과 취합\n",
        "    final_results = {\n",
        "        \"Plant Capacity (MW)\": config.PLANT_CAPACITY_MW,\n",
        "        \"Capacity Factor (%)\": config.CAPACITY_FACTOR * 100,\n",
        "        \"Electricity Cost ($/kWh)\": config.ELECTRICITY_COST,\n",
        "        \"Discount Rate (%)\": config.DISCOUNT_RATE * 100,\n",
        "        \"Annual NH3 Production (tonne)\": annual_nh3_tonne,\n",
        "        **{f\"CAPEX - {k.replace('_', ' ').title()} ($)\": v for k, v in capex_costs.items()},\n",
        "        **{f\"OPEX - {k.replace('_', ' ').title()} ($)\": v for k, v in opex_costs.items()},\n",
        "        **{f\"LCOA - {k.replace('_', ' ').title()} ($/tonne)\": v for k, v in lcoa_results.items()},\n",
        "    }\n",
        "\n",
        "    # 6. 결과 저장\n",
        "    reporter.save_results_to_csv(final_results)\n",
        "\n",
        "    print(\"--- Simulation Finished ---\")\n",
        "\n",
        "\n",
        "if __name__ == \"__main__\":\n",
        "    run_simulation()"
      ],
      "outputs": [],
      "execution_count": null,
      "metadata": {
        "id": "EYEzNHsZ5Sz-"
      }
    }
  ],
  "metadata": {
    "colab": {
      "provenance": [],
      "include_colab_link": true
    },
    "kernelspec": {
      "display_name": "Python 3",
      "name": "python3"
    }
  },
  "nbformat": 4,
  "nbformat_minor": 0
}